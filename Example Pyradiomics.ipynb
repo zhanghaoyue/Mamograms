{
 "cells": [
  {
   "cell_type": "code",
   "execution_count": 1,
   "metadata": {},
   "outputs": [
    {
     "name": "stdout",
     "output_type": "stream",
     "text": [
      "Opening original image\n",
      "width=2560, height=3328\n"
     ]
    }
   ],
   "source": [
    "import numpy as np\n",
    "import SimpleITK as sitk\n",
    "import radiomics\n",
    "import six\n",
    "from radiomics import featureextractor\n",
    "from PIL import Image\n",
    "\n",
    "# copy image locally\n",
    "print(\"Opening original image\")\n",
    "img  = Image.open('/data/athena_screen/images/00a560c1095b7035d62627db4053a4b9.png')  \n",
    "width, height = img.size\n",
    "print(\"width=%s, height=%s\" % (width, height))\n",
    "img.save(\"/home/willhsu/tmp_image.png\") \n",
    "\n",
    "# load image using SimpleITK\n",
    "reader = sitk.ImageFileReader()\n",
    "reader.SetImageIO(\"PNGImageIO\")\n",
    "reader.SetFileName(\"/home/willhsu/tmp_image.png\")\n",
    "image2d = reader.Execute();\n",
    "\n",
    "# create 3D version of image\n",
    "image3d = sitk.JoinSeries(image2d)"
   ]
  },
  {
   "cell_type": "code",
   "execution_count": 2,
   "metadata": {},
   "outputs": [
    {
     "name": "stdout",
     "output_type": "stream",
     "text": [
      "Generating mask\n",
      "width=2560, height=3328\n"
     ]
    }
   ],
   "source": [
    "# generate mask to match dimensions of original image\n",
    "print(\"Generating mask\")\n",
    "mask = np.zeros((height,width),dtype=np.uint8)\n",
    "mask.fill(1) # or img[:] = 255\n",
    "im = Image.fromarray(mask)\n",
    "width, height = im.size\n",
    "print(\"width=%s, height=%s\" % (width, height))\n",
    "im.save(\"/home/willhsu/tmp_mask.png\")\n",
    "\n",
    "# load image using SimpleITK\n",
    "reader = sitk.ImageFileReader()\n",
    "reader.SetImageIO(\"PNGImageIO\")\n",
    "reader.SetFileName(\"/home/willhsu/tmp_mask.png\")\n",
    "image2d = reader.Execute();\n",
    "\n",
    "# create 3D version of image\n",
    "mask3d = sitk.JoinSeries(image2d)"
   ]
  },
  {
   "cell_type": "code",
   "execution_count": 3,
   "metadata": {},
   "outputs": [
    {
     "name": "stdout",
     "output_type": "stream",
     "text": [
      "Calculating features\n"
     ]
    },
    {
     "name": "stderr",
     "output_type": "stream",
     "text": [
      "GLCM is symmetrical, therefore Sum Average = 2 * Joint Average, only 1 needs to be calculated\n"
     ]
    },
    {
     "name": "stdout",
     "output_type": "stream",
     "text": [
      "\tdiagnostics_Versions_PyRadiomics: 2.1.2\n",
      "\tdiagnostics_Versions_Numpy: 1.16.2\n",
      "\tdiagnostics_Versions_SimpleITK: 1.2.0\n",
      "\tdiagnostics_Versions_PyWavelet: 1.0.0\n",
      "\tdiagnostics_Versions_Python: 3.5.2\n",
      "\tdiagnostics_Configuration_Settings: {'distances': [1], 'padDistance': 5, 'resampledPixelSpacing': None, 'resegmentRange': None, 'normalize': False, 'minimumROIDimensions': 2, 'preCrop': False, 'normalizeScale': 1, 'label': 1, 'removeOutliers': None, 'minimumROISize': None, 'force2Ddimension': 0, 'additionalInfo': True, 'force2D': False, 'interpolator': 'sitkBSpline'}\n",
      "\tdiagnostics_Configuration_EnabledImageTypes: {'Original': {}}\n",
      "\tdiagnostics_Image-original_Hash: 2c8ecf0c88d31ae10e804fbc17277e8fc2f4f096\n",
      "\tdiagnostics_Image-original_Spacing: (1.0, 1.0, 1.0)\n",
      "\tdiagnostics_Image-original_Size: (2560, 3328, 1)\n",
      "\tdiagnostics_Image-original_Mean: 25.313341111403247\n",
      "\tdiagnostics_Image-original_Minimum: 0.0\n",
      "\tdiagnostics_Image-original_Maximum: 255.0\n",
      "\tdiagnostics_Mask-original_Hash: 71e4d958584d18520777fb4399347bba31837eb2\n",
      "\tdiagnostics_Mask-original_Spacing: (1.0, 1.0, 1.0)\n",
      "\tdiagnostics_Mask-original_Size: (2560, 3328, 1)\n",
      "\tdiagnostics_Mask-original_BoundingBox: (0, 0, 0, 2560, 3328, 1)\n",
      "\tdiagnostics_Mask-original_VoxelNum: 8519680\n",
      "\tdiagnostics_Mask-original_VolumeNum: 1\n",
      "\tdiagnostics_Mask-original_CenterOfMassIndex: (1279.5, 1663.5, 0.0)\n",
      "\tdiagnostics_Mask-original_CenterOfMass: (1279.5, 1663.5, 0.0)\n",
      "\toriginal_glcm_JointAverage: 1.8417764377724544\n",
      "\toriginal_glcm_Correlation: 0.9760291558858717\n",
      "\toriginal_glcm_DifferenceVariance: 0.10611698015892397\n",
      "\toriginal_glcm_DifferenceEntropy: 0.4587421591898573\n",
      "\toriginal_glcm_Autocorrelation: 5.74293889599094\n",
      "\toriginal_glcm_JointEnergy: 0.47207314411010404\n",
      "\toriginal_glcm_SumEntropy: 1.9829805070622886\n",
      "\toriginal_glcm_ClusterTendency: 9.518659324485823\n",
      "\toriginal_glcm_Imc1: -0.7589071918834891\n",
      "\toriginal_glcm_DifferenceAverage: 0.09649819299212636\n",
      "\toriginal_glcm_Id: 0.9528614450366042\n",
      "\toriginal_glcm_Contrast: 0.11546587639519867\n",
      "\toriginal_glcm_SumSquares: 2.408531300220255\n",
      "\toriginal_glcm_Idmn: 0.9991232812529933\n",
      "\toriginal_glcm_ClusterShade: 62.05232141641288\n",
      "\toriginal_glcm_Idn: 0.9920388011807869\n",
      "\toriginal_glcm_MCC: 0.9823850640877889\n",
      "\toriginal_glcm_SumAverage: 3.6835528755449083\n",
      "\toriginal_glcm_ClusterProminence: 688.3848330514222\n",
      "\toriginal_glcm_Idm: 0.9527116897353919\n",
      "\toriginal_glcm_JointEntropy: 2.0865205895580488\n",
      "\toriginal_glcm_MaximumProbability: 0.6774911767906073\n",
      "\toriginal_glcm_InverseVariance: 0.09284150810369016\n",
      "\toriginal_glcm_Imc2: 0.9602125989662249\n",
      "\toriginal_glrlm_HighGrayLevelRunEmphasis: 17.613697895017392\n",
      "\toriginal_glrlm_ShortRunLowGrayLevelEmphasis: 0.07006263180748551\n",
      "\toriginal_glrlm_RunVariance: 11316.07077327557\n",
      "\toriginal_glrlm_LongRunEmphasis: 11429.747975945755\n",
      "\toriginal_glrlm_RunLengthNonUniformityNormalized: 0.21381113658349113\n",
      "\toriginal_glrlm_GrayLevelNonUniformityNormalized: 0.16581214200665267\n",
      "\toriginal_glrlm_LowGrayLevelRunEmphasis: 0.16578730704539849\n",
      "\toriginal_glrlm_GrayLevelVariance: 2.9562417458971852\n",
      "\toriginal_glrlm_RunEntropy: 5.783217455262833\n",
      "\toriginal_glrlm_RunLengthNonUniformity: 171977.52524717778\n",
      "\toriginal_glrlm_RunPercentage: 0.09425380413348858\n",
      "\toriginal_glrlm_GrayLevelNonUniformity: 133117.19607813394\n",
      "\toriginal_glrlm_LongRunHighGrayLevelEmphasis: 11808.0346657654\n",
      "\toriginal_glrlm_LongRunLowGrayLevelEmphasis: 11399.417920624504\n",
      "\toriginal_glrlm_ShortRunHighGrayLevelEmphasis: 8.552861458324022\n",
      "\toriginal_glrlm_ShortRunEmphasis: 0.4629553713473633\n",
      "\toriginal_glszm_LowGrayLevelZoneEmphasis: 0.1648608078832616\n",
      "\toriginal_glszm_HighGrayLevelZoneEmphasis: 18.73924770198355\n",
      "\toriginal_glszm_SizeZoneNonUniformityNormalized: 0.36833675873712024\n",
      "\toriginal_glszm_GrayLevelNonUniformityNormalized: 0.1577407876298804\n",
      "\toriginal_glszm_LargeAreaHighGrayLevelEmphasis: 432128669.0974964\n",
      "\toriginal_glszm_GrayLevelVariance: 3.183817856377161\n",
      "\toriginal_glszm_GrayLevelNonUniformity: 13042.00832123851\n",
      "\toriginal_glszm_SmallAreaHighGrayLevelEmphasis: 11.79057916887283\n",
      "\toriginal_glszm_ZonePercentage: 0.00970458984375\n",
      "\toriginal_glszm_ZoneEntropy: 5.437970762829053\n",
      "\toriginal_glszm_LargeAreaEmphasis: 379913770.0163522\n",
      "\toriginal_glszm_SizeZoneNonUniformity: 30454.0832123851\n",
      "\toriginal_glszm_SmallAreaEmphasis: 0.6313105492648814\n",
      "\toriginal_glszm_ZoneVariance: 379903151.94523156\n",
      "\toriginal_glszm_LargeAreaLowGrayLevelEmphasis: 372748331.5100423\n",
      "\toriginal_glszm_SmallAreaLowGrayLevelEmphasis: 0.10251188690063631\n",
      "\toriginal_firstorder_Energy: 21163971954.0\n",
      "\toriginal_firstorder_Range: 255.0\n",
      "\toriginal_firstorder_Maximum: 255.0\n",
      "\toriginal_firstorder_Kurtosis: 6.2765226410785795\n",
      "\toriginal_firstorder_Skewness: 1.8645886035185149\n",
      "\toriginal_firstorder_MeanAbsoluteDeviation: 33.190499389951015\n",
      "\toriginal_firstorder_10Percentile: 0.0\n",
      "\toriginal_firstorder_Minimum: 0.0\n",
      "\toriginal_firstorder_Median: 0.0\n",
      "\toriginal_firstorder_RootMeanSquared: 49.841022937609566\n",
      "\toriginal_firstorder_Entropy: 1.681370592682563\n",
      "\toriginal_firstorder_InterquartileRange: 39.0\n",
      "\toriginal_firstorder_Uniformity: 0.48967160345821165\n",
      "\toriginal_firstorder_90Percentile: 94.0\n",
      "\toriginal_firstorder_TotalEnergy: 21163971954.0\n",
      "\toriginal_firstorder_RobustMeanAbsoluteDeviation: 20.344953215369358\n",
      "\toriginal_firstorder_Variance: 1843.3623292450666\n",
      "\toriginal_firstorder_Mean: 25.313341111403247\n"
     ]
    }
   ],
   "source": [
    "# calculate (first-order) radiomic features using pyradiomics\n",
    "print(\"Calculating features\")\n",
    "extractor = featureextractor.RadiomicsFeaturesExtractor()\n",
    "extractor.disableAllFeatures()\n",
    "extractor.enableFeatureClassByName('firstorder')\n",
    "extractor.enableFeatureClassByName('glcm')\n",
    "extractor.enableFeatureClassByName('glszm')\n",
    "extractor.enableFeatureClassByName('glrlm')\n",
    "featureVector = extractor.execute(image3d, mask3d)\n",
    "\n",
    "for (key,val) in six.iteritems(featureVector ):\n",
    "  print(\"\\t%s: %s\" % (key, val))"
   ]
  },
  {
   "cell_type": "code",
   "execution_count": 4,
   "metadata": {},
   "outputs": [],
   "source": [
    "#!ls /data/athena_screen/images"
   ]
  },
  {
   "cell_type": "code",
   "execution_count": null,
   "metadata": {},
   "outputs": [],
   "source": []
  }
 ],
 "metadata": {
  "kernelspec": {
   "display_name": "Python 3",
   "language": "python",
   "name": "python3"
  },
  "language_info": {
   "codemirror_mode": {
    "name": "ipython",
    "version": 3
   },
   "file_extension": ".py",
   "mimetype": "text/x-python",
   "name": "python",
   "nbconvert_exporter": "python",
   "pygments_lexer": "ipython3",
   "version": "3.6.7"
  }
 },
 "nbformat": 4,
 "nbformat_minor": 2
}
