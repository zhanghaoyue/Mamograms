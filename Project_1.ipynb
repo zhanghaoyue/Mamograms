{
  "cells": [
    {
      "cell_type": "code",
      "execution_count": 1,
      "metadata": {
        "collapsed": true,
        "pycharm": {
          "is_executing": false
        }
      },
      "outputs": [
        {
          "data": {
            "text/plain": "\u0027GeForce GTX 1070 Ti\u0027"
          },
          "metadata": {},
          "output_type": "execute_result",
          "execution_count": 1
        }
      ],
      "source": "import torchvision\nimport torch\n\nprint(torch.cuda.get_device_name(0))"
    }
  ],
  "metadata": {
    "language_info": {
      "codemirror_mode": {
        "name": "ipython",
        "version": 2
      },
      "file_extension": ".py",
      "mimetype": "text/x-python",
      "name": "python",
      "nbconvert_exporter": "python",
      "pygments_lexer": "ipython2",
      "version": "2.7.6"
    },
    "kernelspec": {
      "name": "pycharm-de5121dd",
      "language": "python",
      "display_name": "PyCharm (Mamograms)"
    }
  },
  "nbformat": 4,
  "nbformat_minor": 0
}